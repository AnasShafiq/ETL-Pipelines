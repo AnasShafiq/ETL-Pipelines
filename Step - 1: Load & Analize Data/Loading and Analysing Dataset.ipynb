{
 "cells": [
  {
   "cell_type": "code",
   "execution_count": 2,
   "metadata": {},
   "outputs": [],
   "source": [
    "import pandas as pd"
   ]
  },
  {
   "cell_type": "code",
   "execution_count": 4,
   "metadata": {},
   "outputs": [],
   "source": [
    "data = pd.read_csv(r\"C:\\Users\\anas.s\\Desktop\\Ex_Files_ETL_Python_SQL\\Exercise Files\\Chapter_1\\sample_data.csv\")"
   ]
  },
  {
   "cell_type": "code",
   "execution_count": 5,
   "metadata": {},
   "outputs": [
    {
     "data": {
      "text/html": [
       "<div>\n",
       "<style scoped>\n",
       "    .dataframe tbody tr th:only-of-type {\n",
       "        vertical-align: middle;\n",
       "    }\n",
       "\n",
       "    .dataframe tbody tr th {\n",
       "        vertical-align: top;\n",
       "    }\n",
       "\n",
       "    .dataframe thead th {\n",
       "        text-align: right;\n",
       "    }\n",
       "</style>\n",
       "<table border=\"1\" class=\"dataframe\">\n",
       "  <thead>\n",
       "    <tr style=\"text-align: right;\">\n",
       "      <th></th>\n",
       "      <th>Name</th>\n",
       "      <th>Email</th>\n",
       "      <th>Phone</th>\n",
       "      <th>Address</th>\n",
       "      <th>City</th>\n",
       "      <th>Country</th>\n",
       "      <th>Date of Birth</th>\n",
       "      <th>Salary</th>\n",
       "    </tr>\n",
       "  </thead>\n",
       "  <tbody>\n",
       "    <tr>\n",
       "      <th>0</th>\n",
       "      <td>Lisa West</td>\n",
       "      <td>andrew23@example.com</td>\n",
       "      <td>(465)852-8470</td>\n",
       "      <td>Unit 5183 Box 8914\\nDPO AP 26775</td>\n",
       "      <td>Perezfort</td>\n",
       "      <td>Honduras</td>\n",
       "      <td>2001-08-05</td>\n",
       "      <td>83302.0</td>\n",
       "    </tr>\n",
       "    <tr>\n",
       "      <th>1</th>\n",
       "      <td>Jason Cole</td>\n",
       "      <td>kenneth05@example.net</td>\n",
       "      <td>7783540568</td>\n",
       "      <td>73784 Kenneth Stream Apt. 200\\nFitzgeraldshire...</td>\n",
       "      <td>Port Andrea</td>\n",
       "      <td>Bolivia</td>\n",
       "      <td>2012-12-04</td>\n",
       "      <td>31035.0</td>\n",
       "    </tr>\n",
       "    <tr>\n",
       "      <th>2</th>\n",
       "      <td>Juan Crosby</td>\n",
       "      <td>zbarnes@example.org</td>\n",
       "      <td>(676)328-6244x05295</td>\n",
       "      <td>0580 Mary Row\\nLake Vanessabury, GA 81529</td>\n",
       "      <td>Johnborough</td>\n",
       "      <td>South Africa</td>\n",
       "      <td>1921-02-02</td>\n",
       "      <td>60226.0</td>\n",
       "    </tr>\n",
       "    <tr>\n",
       "      <th>3</th>\n",
       "      <td>April Ball</td>\n",
       "      <td>michaelmckinney@example.com</td>\n",
       "      <td>+1-633-685-4901x2113</td>\n",
       "      <td>6215 Hensley Pass Apt. 136\\nSouth Patricia, MN...</td>\n",
       "      <td>New Eric</td>\n",
       "      <td>Greece</td>\n",
       "      <td>2023-05-08</td>\n",
       "      <td>52502.0</td>\n",
       "    </tr>\n",
       "    <tr>\n",
       "      <th>4</th>\n",
       "      <td>Donald Jackson</td>\n",
       "      <td>peterdean@example.com</td>\n",
       "      <td>779-437-7643</td>\n",
       "      <td>156 Macdonald Alley\\nWest Scottmouth, MA 82872</td>\n",
       "      <td>Alyssaborough</td>\n",
       "      <td>Namibia</td>\n",
       "      <td>2019-03-07</td>\n",
       "      <td>38687.0</td>\n",
       "    </tr>\n",
       "  </tbody>\n",
       "</table>\n",
       "</div>"
      ],
      "text/plain": [
       "             Name                        Email                 Phone  \\\n",
       "0       Lisa West         andrew23@example.com         (465)852-8470   \n",
       "1      Jason Cole        kenneth05@example.net            7783540568   \n",
       "2     Juan Crosby          zbarnes@example.org   (676)328-6244x05295   \n",
       "3      April Ball  michaelmckinney@example.com  +1-633-685-4901x2113   \n",
       "4  Donald Jackson        peterdean@example.com          779-437-7643   \n",
       "\n",
       "                                             Address           City  \\\n",
       "0                   Unit 5183 Box 8914\\nDPO AP 26775      Perezfort   \n",
       "1  73784 Kenneth Stream Apt. 200\\nFitzgeraldshire...    Port Andrea   \n",
       "2          0580 Mary Row\\nLake Vanessabury, GA 81529    Johnborough   \n",
       "3  6215 Hensley Pass Apt. 136\\nSouth Patricia, MN...       New Eric   \n",
       "4     156 Macdonald Alley\\nWest Scottmouth, MA 82872  Alyssaborough   \n",
       "\n",
       "        Country Date of Birth   Salary  \n",
       "0      Honduras    2001-08-05  83302.0  \n",
       "1       Bolivia    2012-12-04  31035.0  \n",
       "2  South Africa    1921-02-02  60226.0  \n",
       "3        Greece    2023-05-08  52502.0  \n",
       "4       Namibia    2019-03-07  38687.0  "
      ]
     },
     "execution_count": 5,
     "metadata": {},
     "output_type": "execute_result"
    }
   ],
   "source": [
    "data.head()"
   ]
  },
  {
   "cell_type": "code",
   "execution_count": 6,
   "metadata": {},
   "outputs": [
    {
     "name": "stdout",
     "output_type": "stream",
     "text": [
      "<class 'pandas.core.frame.DataFrame'>\n",
      "RangeIndex: 200 entries, 0 to 199\n",
      "Data columns (total 8 columns):\n",
      " #   Column         Non-Null Count  Dtype  \n",
      "---  ------         --------------  -----  \n",
      " 0   Name           200 non-null    object \n",
      " 1   Email          200 non-null    object \n",
      " 2   Phone          200 non-null    object \n",
      " 3   Address        200 non-null    object \n",
      " 4   City           198 non-null    object \n",
      " 5   Country        197 non-null    object \n",
      " 6   Date of Birth  193 non-null    object \n",
      " 7   Salary         193 non-null    float64\n",
      "dtypes: float64(1), object(7)\n",
      "memory usage: 12.6+ KB\n"
     ]
    }
   ],
   "source": [
    "data.info()"
   ]
  },
  {
   "cell_type": "code",
   "execution_count": 7,
   "metadata": {},
   "outputs": [
    {
     "data": {
      "text/plain": [
       "(200, 8)"
      ]
     },
     "execution_count": 7,
     "metadata": {},
     "output_type": "execute_result"
    }
   ],
   "source": [
    "data.shape"
   ]
  },
  {
   "cell_type": "code",
   "execution_count": 12,
   "metadata": {},
   "outputs": [
    {
     "data": {
      "text/plain": [
       "0      False\n",
       "1      False\n",
       "2      False\n",
       "3      False\n",
       "4      False\n",
       "       ...  \n",
       "195     True\n",
       "196     True\n",
       "197     True\n",
       "198     True\n",
       "199     True\n",
       "Length: 200, dtype: bool"
      ]
     },
     "execution_count": 12,
     "metadata": {},
     "output_type": "execute_result"
    }
   ],
   "source": [
    "data.duplicated()"
   ]
  },
  {
   "cell_type": "code",
   "execution_count": 13,
   "metadata": {},
   "outputs": [
    {
     "data": {
      "text/html": [
       "<div>\n",
       "<style scoped>\n",
       "    .dataframe tbody tr th:only-of-type {\n",
       "        vertical-align: middle;\n",
       "    }\n",
       "\n",
       "    .dataframe tbody tr th {\n",
       "        vertical-align: top;\n",
       "    }\n",
       "\n",
       "    .dataframe thead th {\n",
       "        text-align: right;\n",
       "    }\n",
       "</style>\n",
       "<table border=\"1\" class=\"dataframe\">\n",
       "  <thead>\n",
       "    <tr style=\"text-align: right;\">\n",
       "      <th></th>\n",
       "      <th>Name</th>\n",
       "      <th>Email</th>\n",
       "      <th>Phone</th>\n",
       "      <th>Address</th>\n",
       "      <th>City</th>\n",
       "      <th>Country</th>\n",
       "      <th>Date of Birth</th>\n",
       "      <th>Salary</th>\n",
       "    </tr>\n",
       "  </thead>\n",
       "  <tbody>\n",
       "    <tr>\n",
       "      <th>0</th>\n",
       "      <td>Lisa West</td>\n",
       "      <td>andrew23@example.com</td>\n",
       "      <td>(465)852-8470</td>\n",
       "      <td>Unit 5183 Box 8914\\nDPO AP 26775</td>\n",
       "      <td>Perezfort</td>\n",
       "      <td>Honduras</td>\n",
       "      <td>2001-08-05</td>\n",
       "      <td>83302.0</td>\n",
       "    </tr>\n",
       "    <tr>\n",
       "      <th>1</th>\n",
       "      <td>Jason Cole</td>\n",
       "      <td>kenneth05@example.net</td>\n",
       "      <td>7783540568</td>\n",
       "      <td>73784 Kenneth Stream Apt. 200\\nFitzgeraldshire...</td>\n",
       "      <td>Port Andrea</td>\n",
       "      <td>Bolivia</td>\n",
       "      <td>2012-12-04</td>\n",
       "      <td>31035.0</td>\n",
       "    </tr>\n",
       "    <tr>\n",
       "      <th>2</th>\n",
       "      <td>Juan Crosby</td>\n",
       "      <td>zbarnes@example.org</td>\n",
       "      <td>(676)328-6244x05295</td>\n",
       "      <td>0580 Mary Row\\nLake Vanessabury, GA 81529</td>\n",
       "      <td>Johnborough</td>\n",
       "      <td>South Africa</td>\n",
       "      <td>1921-02-02</td>\n",
       "      <td>60226.0</td>\n",
       "    </tr>\n",
       "    <tr>\n",
       "      <th>3</th>\n",
       "      <td>April Ball</td>\n",
       "      <td>michaelmckinney@example.com</td>\n",
       "      <td>+1-633-685-4901x2113</td>\n",
       "      <td>6215 Hensley Pass Apt. 136\\nSouth Patricia, MN...</td>\n",
       "      <td>New Eric</td>\n",
       "      <td>Greece</td>\n",
       "      <td>2023-05-08</td>\n",
       "      <td>52502.0</td>\n",
       "    </tr>\n",
       "    <tr>\n",
       "      <th>4</th>\n",
       "      <td>Donald Jackson</td>\n",
       "      <td>peterdean@example.com</td>\n",
       "      <td>779-437-7643</td>\n",
       "      <td>156 Macdonald Alley\\nWest Scottmouth, MA 82872</td>\n",
       "      <td>Alyssaborough</td>\n",
       "      <td>Namibia</td>\n",
       "      <td>2019-03-07</td>\n",
       "      <td>38687.0</td>\n",
       "    </tr>\n",
       "    <tr>\n",
       "      <th>...</th>\n",
       "      <td>...</td>\n",
       "      <td>...</td>\n",
       "      <td>...</td>\n",
       "      <td>...</td>\n",
       "      <td>...</td>\n",
       "      <td>...</td>\n",
       "      <td>...</td>\n",
       "      <td>...</td>\n",
       "    </tr>\n",
       "    <tr>\n",
       "      <th>185</th>\n",
       "      <td>Derek Gonzales</td>\n",
       "      <td>morrisdennis@example.org</td>\n",
       "      <td>001-925-305-9769</td>\n",
       "      <td>5721 Stewart Station\\nPort Natalie, MH 92558</td>\n",
       "      <td>Thompsonburgh</td>\n",
       "      <td>Korea</td>\n",
       "      <td>2005-08-07</td>\n",
       "      <td>97074.0</td>\n",
       "    </tr>\n",
       "    <tr>\n",
       "      <th>186</th>\n",
       "      <td>Kimberly Hardy</td>\n",
       "      <td>austinthompson@example.com</td>\n",
       "      <td>(903)716-6739x99186</td>\n",
       "      <td>9188 Johnson Coves\\nNew Ericview, NC 11708</td>\n",
       "      <td>Lake Garyport</td>\n",
       "      <td>United States of America</td>\n",
       "      <td>1951-08-04</td>\n",
       "      <td>90426.0</td>\n",
       "    </tr>\n",
       "    <tr>\n",
       "      <th>187</th>\n",
       "      <td>Ashley Zimmerman</td>\n",
       "      <td>mary96@example.net</td>\n",
       "      <td>280-529-0456x02617</td>\n",
       "      <td>021 Baker Stream Apt. 288\\nFoleyville, TN 71682</td>\n",
       "      <td>Fitzgeraldbury</td>\n",
       "      <td>Cayman Islands</td>\n",
       "      <td>1932-10-12</td>\n",
       "      <td>81496.0</td>\n",
       "    </tr>\n",
       "    <tr>\n",
       "      <th>188</th>\n",
       "      <td>Marc Myers</td>\n",
       "      <td>christopher87@example.org</td>\n",
       "      <td>671.515.9764x99092</td>\n",
       "      <td>USCGC Colon\\nFPO AA 43946</td>\n",
       "      <td>Kellyville</td>\n",
       "      <td>Greece</td>\n",
       "      <td>2014-02-19</td>\n",
       "      <td>69587.0</td>\n",
       "    </tr>\n",
       "    <tr>\n",
       "      <th>189</th>\n",
       "      <td>Jessica Rodriguez</td>\n",
       "      <td>finleystephanie@example.com</td>\n",
       "      <td>(312)467-6244x90532</td>\n",
       "      <td>PSC 3541, Box 4224\\nAPO AE 82736</td>\n",
       "      <td>Deniseborough</td>\n",
       "      <td>Bahamas</td>\n",
       "      <td>1972-06-10</td>\n",
       "      <td>52866.0</td>\n",
       "    </tr>\n",
       "  </tbody>\n",
       "</table>\n",
       "<p>172 rows × 8 columns</p>\n",
       "</div>"
      ],
      "text/plain": [
       "                  Name                        Email                 Phone  \\\n",
       "0            Lisa West         andrew23@example.com         (465)852-8470   \n",
       "1           Jason Cole        kenneth05@example.net            7783540568   \n",
       "2          Juan Crosby          zbarnes@example.org   (676)328-6244x05295   \n",
       "3           April Ball  michaelmckinney@example.com  +1-633-685-4901x2113   \n",
       "4       Donald Jackson        peterdean@example.com          779-437-7643   \n",
       "..                 ...                          ...                   ...   \n",
       "185     Derek Gonzales     morrisdennis@example.org      001-925-305-9769   \n",
       "186     Kimberly Hardy   austinthompson@example.com   (903)716-6739x99186   \n",
       "187   Ashley Zimmerman           mary96@example.net    280-529-0456x02617   \n",
       "188         Marc Myers    christopher87@example.org    671.515.9764x99092   \n",
       "189  Jessica Rodriguez  finleystephanie@example.com   (312)467-6244x90532   \n",
       "\n",
       "                                               Address            City  \\\n",
       "0                     Unit 5183 Box 8914\\nDPO AP 26775       Perezfort   \n",
       "1    73784 Kenneth Stream Apt. 200\\nFitzgeraldshire...     Port Andrea   \n",
       "2            0580 Mary Row\\nLake Vanessabury, GA 81529     Johnborough   \n",
       "3    6215 Hensley Pass Apt. 136\\nSouth Patricia, MN...        New Eric   \n",
       "4       156 Macdonald Alley\\nWest Scottmouth, MA 82872   Alyssaborough   \n",
       "..                                                 ...             ...   \n",
       "185       5721 Stewart Station\\nPort Natalie, MH 92558   Thompsonburgh   \n",
       "186         9188 Johnson Coves\\nNew Ericview, NC 11708   Lake Garyport   \n",
       "187    021 Baker Stream Apt. 288\\nFoleyville, TN 71682  Fitzgeraldbury   \n",
       "188                          USCGC Colon\\nFPO AA 43946      Kellyville   \n",
       "189                   PSC 3541, Box 4224\\nAPO AE 82736   Deniseborough   \n",
       "\n",
       "                      Country Date of Birth   Salary  \n",
       "0                    Honduras    2001-08-05  83302.0  \n",
       "1                     Bolivia    2012-12-04  31035.0  \n",
       "2                South Africa    1921-02-02  60226.0  \n",
       "3                      Greece    2023-05-08  52502.0  \n",
       "4                     Namibia    2019-03-07  38687.0  \n",
       "..                        ...           ...      ...  \n",
       "185                     Korea    2005-08-07  97074.0  \n",
       "186  United States of America    1951-08-04  90426.0  \n",
       "187            Cayman Islands    1932-10-12  81496.0  \n",
       "188                    Greece    2014-02-19  69587.0  \n",
       "189                   Bahamas    1972-06-10  52866.0  \n",
       "\n",
       "[172 rows x 8 columns]"
      ]
     },
     "execution_count": 13,
     "metadata": {},
     "output_type": "execute_result"
    }
   ],
   "source": [
    "data.drop_duplicates()"
   ]
  },
  {
   "cell_type": "code",
   "execution_count": 14,
   "metadata": {},
   "outputs": [
    {
     "name": "stdout",
     "output_type": "stream",
     "text": [
      "<class 'pandas.core.frame.DataFrame'>\n",
      "RangeIndex: 200 entries, 0 to 199\n",
      "Data columns (total 8 columns):\n",
      " #   Column         Non-Null Count  Dtype  \n",
      "---  ------         --------------  -----  \n",
      " 0   Name           200 non-null    object \n",
      " 1   Email          200 non-null    object \n",
      " 2   Phone          200 non-null    object \n",
      " 3   Address        200 non-null    object \n",
      " 4   City           198 non-null    object \n",
      " 5   Country        197 non-null    object \n",
      " 6   Date of Birth  193 non-null    object \n",
      " 7   Salary         193 non-null    float64\n",
      "dtypes: float64(1), object(7)\n",
      "memory usage: 12.6+ KB\n"
     ]
    }
   ],
   "source": [
    "data.info()"
   ]
  },
  {
   "cell_type": "code",
   "execution_count": 17,
   "metadata": {},
   "outputs": [
    {
     "data": {
      "text/plain": [
       "(200, 8)"
      ]
     },
     "execution_count": 17,
     "metadata": {},
     "output_type": "execute_result"
    }
   ],
   "source": [
    "data.shape"
   ]
  },
  {
   "cell_type": "code",
   "execution_count": null,
   "metadata": {},
   "outputs": [],
   "source": []
  }
 ],
 "metadata": {
  "kernelspec": {
   "display_name": "Python 3",
   "language": "python",
   "name": "python3"
  },
  "language_info": {
   "codemirror_mode": {
    "name": "ipython",
    "version": 3
   },
   "file_extension": ".py",
   "mimetype": "text/x-python",
   "name": "python",
   "nbconvert_exporter": "python",
   "pygments_lexer": "ipython3",
   "version": "3.12.4"
  }
 },
 "nbformat": 4,
 "nbformat_minor": 2
}
